{
 "cells": [
  {
   "cell_type": "markdown",
   "metadata": {},
   "source": [
    "# Analyzing 2017 New Coder Survey Data\n",
    "\n",
    "In this project, we will be exploring what markets would be the best for an e-learning company that offers courses on various diciplines to advertise in. The main domains the company covers are web and mobile development with others like data science, game development, etc. also supported.\n",
    "\n",
    "In order to achieve this, we will use [this](https://github.com/freeCodeCamp/2017-new-coder-survey) survey data from [freeCodeCamp](https://www.freecodecamp.org/learn)'s 2017 survey. They have surveyed more than 20,000 participants.\n",
    "\n",
    "# 1. Exploring and Cleaning the Data"
   ]
  },
  {
   "cell_type": "code",
   "execution_count": 1,
   "metadata": {},
   "outputs": [],
   "source": [
    "import numpy as np\n",
    "import pandas as pd\n",
    "import matplotlib.pyplot as plt\n",
    "import re\n",
    "\n",
    "%matplotlib inline\n",
    "plt.style.use('ggplot')"
   ]
  },
  {
   "cell_type": "code",
   "execution_count": 2,
   "metadata": {},
   "outputs": [
    {
     "data": {
      "text/html": [
       "<div>\n",
       "<style scoped>\n",
       "    .dataframe tbody tr th:only-of-type {\n",
       "        vertical-align: middle;\n",
       "    }\n",
       "\n",
       "    .dataframe tbody tr th {\n",
       "        vertical-align: top;\n",
       "    }\n",
       "\n",
       "    .dataframe thead th {\n",
       "        text-align: right;\n",
       "    }\n",
       "</style>\n",
       "<table border=\"1\" class=\"dataframe\">\n",
       "  <thead>\n",
       "    <tr style=\"text-align: right;\">\n",
       "      <th></th>\n",
       "      <th>Age</th>\n",
       "      <th>AttendedBootcamp</th>\n",
       "      <th>BootcampFinish</th>\n",
       "      <th>BootcampLoanYesNo</th>\n",
       "      <th>BootcampName</th>\n",
       "      <th>BootcampRecommend</th>\n",
       "      <th>ChildrenNumber</th>\n",
       "      <th>CityPopulation</th>\n",
       "      <th>CodeEventConferences</th>\n",
       "      <th>CodeEventDjangoGirls</th>\n",
       "      <th>...</th>\n",
       "      <th>YouTubeFCC</th>\n",
       "      <th>YouTubeFunFunFunction</th>\n",
       "      <th>YouTubeGoogleDev</th>\n",
       "      <th>YouTubeLearnCode</th>\n",
       "      <th>YouTubeLevelUpTuts</th>\n",
       "      <th>YouTubeMIT</th>\n",
       "      <th>YouTubeMozillaHacks</th>\n",
       "      <th>YouTubeOther</th>\n",
       "      <th>YouTubeSimplilearn</th>\n",
       "      <th>YouTubeTheNewBoston</th>\n",
       "    </tr>\n",
       "  </thead>\n",
       "  <tbody>\n",
       "    <tr>\n",
       "      <th>0</th>\n",
       "      <td>27.0</td>\n",
       "      <td>0.0</td>\n",
       "      <td>NaN</td>\n",
       "      <td>NaN</td>\n",
       "      <td>NaN</td>\n",
       "      <td>NaN</td>\n",
       "      <td>NaN</td>\n",
       "      <td>more than 1 million</td>\n",
       "      <td>NaN</td>\n",
       "      <td>NaN</td>\n",
       "      <td>...</td>\n",
       "      <td>NaN</td>\n",
       "      <td>NaN</td>\n",
       "      <td>NaN</td>\n",
       "      <td>NaN</td>\n",
       "      <td>NaN</td>\n",
       "      <td>NaN</td>\n",
       "      <td>NaN</td>\n",
       "      <td>NaN</td>\n",
       "      <td>NaN</td>\n",
       "      <td>NaN</td>\n",
       "    </tr>\n",
       "    <tr>\n",
       "      <th>1</th>\n",
       "      <td>34.0</td>\n",
       "      <td>0.0</td>\n",
       "      <td>NaN</td>\n",
       "      <td>NaN</td>\n",
       "      <td>NaN</td>\n",
       "      <td>NaN</td>\n",
       "      <td>NaN</td>\n",
       "      <td>less than 100,000</td>\n",
       "      <td>NaN</td>\n",
       "      <td>NaN</td>\n",
       "      <td>...</td>\n",
       "      <td>1.0</td>\n",
       "      <td>NaN</td>\n",
       "      <td>NaN</td>\n",
       "      <td>NaN</td>\n",
       "      <td>NaN</td>\n",
       "      <td>NaN</td>\n",
       "      <td>NaN</td>\n",
       "      <td>NaN</td>\n",
       "      <td>NaN</td>\n",
       "      <td>NaN</td>\n",
       "    </tr>\n",
       "    <tr>\n",
       "      <th>2</th>\n",
       "      <td>21.0</td>\n",
       "      <td>0.0</td>\n",
       "      <td>NaN</td>\n",
       "      <td>NaN</td>\n",
       "      <td>NaN</td>\n",
       "      <td>NaN</td>\n",
       "      <td>NaN</td>\n",
       "      <td>more than 1 million</td>\n",
       "      <td>NaN</td>\n",
       "      <td>NaN</td>\n",
       "      <td>...</td>\n",
       "      <td>NaN</td>\n",
       "      <td>NaN</td>\n",
       "      <td>NaN</td>\n",
       "      <td>1.0</td>\n",
       "      <td>1.0</td>\n",
       "      <td>NaN</td>\n",
       "      <td>NaN</td>\n",
       "      <td>NaN</td>\n",
       "      <td>NaN</td>\n",
       "      <td>NaN</td>\n",
       "    </tr>\n",
       "    <tr>\n",
       "      <th>3</th>\n",
       "      <td>26.0</td>\n",
       "      <td>0.0</td>\n",
       "      <td>NaN</td>\n",
       "      <td>NaN</td>\n",
       "      <td>NaN</td>\n",
       "      <td>NaN</td>\n",
       "      <td>NaN</td>\n",
       "      <td>between 100,000 and 1 million</td>\n",
       "      <td>NaN</td>\n",
       "      <td>NaN</td>\n",
       "      <td>...</td>\n",
       "      <td>1.0</td>\n",
       "      <td>1.0</td>\n",
       "      <td>NaN</td>\n",
       "      <td>NaN</td>\n",
       "      <td>1.0</td>\n",
       "      <td>NaN</td>\n",
       "      <td>NaN</td>\n",
       "      <td>NaN</td>\n",
       "      <td>NaN</td>\n",
       "      <td>NaN</td>\n",
       "    </tr>\n",
       "    <tr>\n",
       "      <th>4</th>\n",
       "      <td>20.0</td>\n",
       "      <td>0.0</td>\n",
       "      <td>NaN</td>\n",
       "      <td>NaN</td>\n",
       "      <td>NaN</td>\n",
       "      <td>NaN</td>\n",
       "      <td>NaN</td>\n",
       "      <td>between 100,000 and 1 million</td>\n",
       "      <td>NaN</td>\n",
       "      <td>NaN</td>\n",
       "      <td>...</td>\n",
       "      <td>NaN</td>\n",
       "      <td>NaN</td>\n",
       "      <td>NaN</td>\n",
       "      <td>NaN</td>\n",
       "      <td>NaN</td>\n",
       "      <td>NaN</td>\n",
       "      <td>NaN</td>\n",
       "      <td>NaN</td>\n",
       "      <td>NaN</td>\n",
       "      <td>NaN</td>\n",
       "    </tr>\n",
       "  </tbody>\n",
       "</table>\n",
       "<p>5 rows × 136 columns</p>\n",
       "</div>"
      ],
      "text/plain": [
       "    Age  AttendedBootcamp  BootcampFinish  BootcampLoanYesNo BootcampName  \\\n",
       "0  27.0               0.0             NaN                NaN          NaN   \n",
       "1  34.0               0.0             NaN                NaN          NaN   \n",
       "2  21.0               0.0             NaN                NaN          NaN   \n",
       "3  26.0               0.0             NaN                NaN          NaN   \n",
       "4  20.0               0.0             NaN                NaN          NaN   \n",
       "\n",
       "   BootcampRecommend  ChildrenNumber                 CityPopulation  \\\n",
       "0                NaN             NaN            more than 1 million   \n",
       "1                NaN             NaN              less than 100,000   \n",
       "2                NaN             NaN            more than 1 million   \n",
       "3                NaN             NaN  between 100,000 and 1 million   \n",
       "4                NaN             NaN  between 100,000 and 1 million   \n",
       "\n",
       "   CodeEventConferences  CodeEventDjangoGirls  ...  YouTubeFCC  \\\n",
       "0                   NaN                   NaN  ...         NaN   \n",
       "1                   NaN                   NaN  ...         1.0   \n",
       "2                   NaN                   NaN  ...         NaN   \n",
       "3                   NaN                   NaN  ...         1.0   \n",
       "4                   NaN                   NaN  ...         NaN   \n",
       "\n",
       "   YouTubeFunFunFunction  YouTubeGoogleDev  YouTubeLearnCode  \\\n",
       "0                    NaN               NaN               NaN   \n",
       "1                    NaN               NaN               NaN   \n",
       "2                    NaN               NaN               1.0   \n",
       "3                    1.0               NaN               NaN   \n",
       "4                    NaN               NaN               NaN   \n",
       "\n",
       "   YouTubeLevelUpTuts  YouTubeMIT  YouTubeMozillaHacks YouTubeOther  \\\n",
       "0                 NaN         NaN                  NaN          NaN   \n",
       "1                 NaN         NaN                  NaN          NaN   \n",
       "2                 1.0         NaN                  NaN          NaN   \n",
       "3                 1.0         NaN                  NaN          NaN   \n",
       "4                 NaN         NaN                  NaN          NaN   \n",
       "\n",
       "   YouTubeSimplilearn  YouTubeTheNewBoston  \n",
       "0                 NaN                  NaN  \n",
       "1                 NaN                  NaN  \n",
       "2                 NaN                  NaN  \n",
       "3                 NaN                  NaN  \n",
       "4                 NaN                  NaN  \n",
       "\n",
       "[5 rows x 136 columns]"
      ]
     },
     "execution_count": 2,
     "metadata": {},
     "output_type": "execute_result"
    }
   ],
   "source": [
    "new_coders = pd.read_csv(\"2017-fCC-New-Coders-Survey-Data.csv\", low_memory=False)\n",
    "new_coders.head()"
   ]
  },
  {
   "cell_type": "markdown",
   "metadata": {},
   "source": [
    "As we see, the dataset contains 136 columns... That's a bit too much so we will only take the columns that might be useful to us."
   ]
  },
  {
   "cell_type": "code",
   "execution_count": 3,
   "metadata": {},
   "outputs": [
    {
     "data": {
      "text/plain": [
       "Index(['Age', 'AttendedBootcamp', 'BootcampFinish', 'BootcampLoanYesNo',\n",
       "       'BootcampName', 'BootcampRecommend', 'ChildrenNumber', 'CityPopulation',\n",
       "       'CodeEventConferences', 'CodeEventDjangoGirls',\n",
       "       ...\n",
       "       'YouTubeFCC', 'YouTubeFunFunFunction', 'YouTubeGoogleDev',\n",
       "       'YouTubeLearnCode', 'YouTubeLevelUpTuts', 'YouTubeMIT',\n",
       "       'YouTubeMozillaHacks', 'YouTubeOther', 'YouTubeSimplilearn',\n",
       "       'YouTubeTheNewBoston'],\n",
       "      dtype='object', length=136)"
      ]
     },
     "execution_count": 3,
     "metadata": {},
     "output_type": "execute_result"
    }
   ],
   "source": [
    "new_coders.columns"
   ]
  },
  {
   "cell_type": "code",
   "execution_count": 4,
   "metadata": {},
   "outputs": [
    {
     "data": {
      "text/html": [
       "<div>\n",
       "<style scoped>\n",
       "    .dataframe tbody tr th:only-of-type {\n",
       "        vertical-align: middle;\n",
       "    }\n",
       "\n",
       "    .dataframe tbody tr th {\n",
       "        vertical-align: top;\n",
       "    }\n",
       "\n",
       "    .dataframe thead th {\n",
       "        text-align: right;\n",
       "    }\n",
       "</style>\n",
       "<table border=\"1\" class=\"dataframe\">\n",
       "  <thead>\n",
       "    <tr style=\"text-align: right;\">\n",
       "      <th></th>\n",
       "      <th>Age</th>\n",
       "      <th>CityPopulation</th>\n",
       "      <th>CountryLive</th>\n",
       "      <th>EmploymentField</th>\n",
       "      <th>EmploymentStatus</th>\n",
       "      <th>Gender</th>\n",
       "      <th>GenderOther</th>\n",
       "      <th>HasChildren</th>\n",
       "      <th>HasHighSpdInternet</th>\n",
       "      <th>Income</th>\n",
       "      <th>...</th>\n",
       "      <th>JobInterestGameDev</th>\n",
       "      <th>JobInterestInfoSec</th>\n",
       "      <th>JobInterestMobile</th>\n",
       "      <th>JobInterestQAEngr</th>\n",
       "      <th>JobInterestUX</th>\n",
       "      <th>JobPref</th>\n",
       "      <th>JobRelocateYesNo</th>\n",
       "      <th>MoneyForLearning</th>\n",
       "      <th>SchoolDegree</th>\n",
       "      <th>SchoolMajor</th>\n",
       "    </tr>\n",
       "  </thead>\n",
       "  <tbody>\n",
       "    <tr>\n",
       "      <th>0</th>\n",
       "      <td>27.0</td>\n",
       "      <td>more than 1 million</td>\n",
       "      <td>Canada</td>\n",
       "      <td>software development and IT</td>\n",
       "      <td>Employed for wages</td>\n",
       "      <td>female</td>\n",
       "      <td>NaN</td>\n",
       "      <td>NaN</td>\n",
       "      <td>1.0</td>\n",
       "      <td>NaN</td>\n",
       "      <td>...</td>\n",
       "      <td>NaN</td>\n",
       "      <td>NaN</td>\n",
       "      <td>NaN</td>\n",
       "      <td>NaN</td>\n",
       "      <td>NaN</td>\n",
       "      <td>start your own business</td>\n",
       "      <td>NaN</td>\n",
       "      <td>150.0</td>\n",
       "      <td>some college credit, no degree</td>\n",
       "      <td>NaN</td>\n",
       "    </tr>\n",
       "    <tr>\n",
       "      <th>1</th>\n",
       "      <td>34.0</td>\n",
       "      <td>less than 100,000</td>\n",
       "      <td>United States of America</td>\n",
       "      <td>NaN</td>\n",
       "      <td>Not working but looking for work</td>\n",
       "      <td>male</td>\n",
       "      <td>NaN</td>\n",
       "      <td>NaN</td>\n",
       "      <td>1.0</td>\n",
       "      <td>NaN</td>\n",
       "      <td>...</td>\n",
       "      <td>NaN</td>\n",
       "      <td>NaN</td>\n",
       "      <td>NaN</td>\n",
       "      <td>NaN</td>\n",
       "      <td>NaN</td>\n",
       "      <td>work for a nonprofit</td>\n",
       "      <td>1.0</td>\n",
       "      <td>80.0</td>\n",
       "      <td>some college credit, no degree</td>\n",
       "      <td>NaN</td>\n",
       "    </tr>\n",
       "    <tr>\n",
       "      <th>2</th>\n",
       "      <td>21.0</td>\n",
       "      <td>more than 1 million</td>\n",
       "      <td>United States of America</td>\n",
       "      <td>software development and IT</td>\n",
       "      <td>Employed for wages</td>\n",
       "      <td>male</td>\n",
       "      <td>NaN</td>\n",
       "      <td>NaN</td>\n",
       "      <td>1.0</td>\n",
       "      <td>13000.0</td>\n",
       "      <td>...</td>\n",
       "      <td>NaN</td>\n",
       "      <td>NaN</td>\n",
       "      <td>1.0</td>\n",
       "      <td>NaN</td>\n",
       "      <td>NaN</td>\n",
       "      <td>work for a medium-sized company</td>\n",
       "      <td>1.0</td>\n",
       "      <td>1000.0</td>\n",
       "      <td>high school diploma or equivalent (GED)</td>\n",
       "      <td>NaN</td>\n",
       "    </tr>\n",
       "    <tr>\n",
       "      <th>3</th>\n",
       "      <td>26.0</td>\n",
       "      <td>between 100,000 and 1 million</td>\n",
       "      <td>Brazil</td>\n",
       "      <td>software development and IT</td>\n",
       "      <td>Employed for wages</td>\n",
       "      <td>male</td>\n",
       "      <td>NaN</td>\n",
       "      <td>0.0</td>\n",
       "      <td>1.0</td>\n",
       "      <td>24000.0</td>\n",
       "      <td>...</td>\n",
       "      <td>NaN</td>\n",
       "      <td>NaN</td>\n",
       "      <td>NaN</td>\n",
       "      <td>NaN</td>\n",
       "      <td>NaN</td>\n",
       "      <td>work for a medium-sized company</td>\n",
       "      <td>NaN</td>\n",
       "      <td>0.0</td>\n",
       "      <td>some college credit, no degree</td>\n",
       "      <td>NaN</td>\n",
       "    </tr>\n",
       "    <tr>\n",
       "      <th>4</th>\n",
       "      <td>20.0</td>\n",
       "      <td>between 100,000 and 1 million</td>\n",
       "      <td>Portugal</td>\n",
       "      <td>NaN</td>\n",
       "      <td>Not working but looking for work</td>\n",
       "      <td>female</td>\n",
       "      <td>NaN</td>\n",
       "      <td>NaN</td>\n",
       "      <td>1.0</td>\n",
       "      <td>NaN</td>\n",
       "      <td>...</td>\n",
       "      <td>NaN</td>\n",
       "      <td>1.0</td>\n",
       "      <td>1.0</td>\n",
       "      <td>NaN</td>\n",
       "      <td>NaN</td>\n",
       "      <td>work for a multinational corporation</td>\n",
       "      <td>1.0</td>\n",
       "      <td>0.0</td>\n",
       "      <td>bachelor's degree</td>\n",
       "      <td>Information Technology</td>\n",
       "    </tr>\n",
       "  </tbody>\n",
       "</table>\n",
       "<p>5 rows × 27 columns</p>\n",
       "</div>"
      ],
      "text/plain": [
       "    Age                 CityPopulation               CountryLive  \\\n",
       "0  27.0            more than 1 million                    Canada   \n",
       "1  34.0              less than 100,000  United States of America   \n",
       "2  21.0            more than 1 million  United States of America   \n",
       "3  26.0  between 100,000 and 1 million                    Brazil   \n",
       "4  20.0  between 100,000 and 1 million                  Portugal   \n",
       "\n",
       "               EmploymentField                  EmploymentStatus  Gender  \\\n",
       "0  software development and IT                Employed for wages  female   \n",
       "1                          NaN  Not working but looking for work    male   \n",
       "2  software development and IT                Employed for wages    male   \n",
       "3  software development and IT                Employed for wages    male   \n",
       "4                          NaN  Not working but looking for work  female   \n",
       "\n",
       "  GenderOther  HasChildren  HasHighSpdInternet   Income  ...  \\\n",
       "0         NaN          NaN                 1.0      NaN  ...   \n",
       "1         NaN          NaN                 1.0      NaN  ...   \n",
       "2         NaN          NaN                 1.0  13000.0  ...   \n",
       "3         NaN          0.0                 1.0  24000.0  ...   \n",
       "4         NaN          NaN                 1.0      NaN  ...   \n",
       "\n",
       "   JobInterestGameDev  JobInterestInfoSec  JobInterestMobile  \\\n",
       "0                 NaN                 NaN                NaN   \n",
       "1                 NaN                 NaN                NaN   \n",
       "2                 NaN                 NaN                1.0   \n",
       "3                 NaN                 NaN                NaN   \n",
       "4                 NaN                 1.0                1.0   \n",
       "\n",
       "   JobInterestQAEngr  JobInterestUX                               JobPref  \\\n",
       "0                NaN            NaN               start your own business   \n",
       "1                NaN            NaN                  work for a nonprofit   \n",
       "2                NaN            NaN       work for a medium-sized company   \n",
       "3                NaN            NaN       work for a medium-sized company   \n",
       "4                NaN            NaN  work for a multinational corporation   \n",
       "\n",
       "   JobRelocateYesNo  MoneyForLearning  \\\n",
       "0               NaN             150.0   \n",
       "1               1.0              80.0   \n",
       "2               1.0            1000.0   \n",
       "3               NaN               0.0   \n",
       "4               1.0               0.0   \n",
       "\n",
       "                              SchoolDegree             SchoolMajor  \n",
       "0           some college credit, no degree                     NaN  \n",
       "1           some college credit, no degree                     NaN  \n",
       "2  high school diploma or equivalent (GED)                     NaN  \n",
       "3           some college credit, no degree                     NaN  \n",
       "4                        bachelor's degree  Information Technology  \n",
       "\n",
       "[5 rows x 27 columns]"
      ]
     },
     "execution_count": 4,
     "metadata": {},
     "output_type": "execute_result"
    }
   ],
   "source": [
    "relevant = new_coders[[\"Age\", \"CityPopulation\", \"CountryLive\", \"EmploymentField\",\n",
    "                       \"EmploymentStatus\", \"Gender\", \"GenderOther\", \"HasChildren\",\n",
    "                       \"HasHighSpdInternet\", \"Income\", \"IsEthnicMinority\",\n",
    "                       \"JobInterestBackEnd\", \"JobInterestDataEngr\", \n",
    "                       \"JobInterestDataSci\", \"JobInterestDevOps\", \"JobInterestFrontEnd\", \n",
    "                       \"JobInterestFullStack\", \"JobInterestGameDev\", \"JobInterestInfoSec\",\n",
    "                       \"JobInterestMobile\", \"JobInterestQAEngr\", \"JobInterestUX\",\n",
    "                       \"JobPref\", \"JobRelocateYesNo\", \"MoneyForLearning\",\n",
    "                       \"SchoolDegree\", \"SchoolMajor\"]].copy()\n",
    "relevant.head()"
   ]
  },
  {
   "cell_type": "markdown",
   "metadata": {},
   "source": [
    "This way, we now have columns that are more relevant to us. To prevent overcrowding, let's merge the Job Interest columns into one:"
   ]
  },
  {
   "cell_type": "code",
   "execution_count": 5,
   "metadata": {},
   "outputs": [
    {
     "name": "stdout",
     "output_type": "stream",
     "text": [
      "['BackEnd', 'DataEngr', 'DataSci', 'DevOps', 'FrontEnd', 'FullStack', 'GameDev', 'InfoSec', 'Mobile', 'QAEngr', 'UX']\n"
     ]
    }
   ],
   "source": [
    "job_int_pattern = \"JobInterest(\\w+)\"\n",
    "job_interests_list = [re.findall(job_int_pattern, column)[0] for column in relevant.columns if re.findall(job_int_pattern, column) != []]\n",
    "print(job_interests_list)"
   ]
  },
  {
   "cell_type": "code",
   "execution_count": 6,
   "metadata": {},
   "outputs": [
    {
     "data": {
      "text/plain": [
       "0                                                NaN\n",
       "1                                        [FullStack]\n",
       "2     [BackEnd, DevOps, FrontEnd, FullStack, Mobile]\n",
       "3                     [BackEnd, FrontEnd, FullStack]\n",
       "4    [BackEnd, FrontEnd, FullStack, InfoSec, Mobile]\n",
       "Name: Job Interests, dtype: object"
      ]
     },
     "execution_count": 6,
     "metadata": {},
     "output_type": "execute_result"
    }
   ],
   "source": [
    "relevant.rename({\"JobInterestBackEnd\": \"BackEnd\", \"JobInterestDataEngr\": \"DataEngr\", \n",
    "                 \"JobInterestDataSci\": \"DataSci\", \"JobInterestDevOps\": \"DevOps\",\n",
    "                 \"JobInterestFrontEnd\": \"FrontEnd\", \"JobInterestFullStack\": \"FullStack\",\n",
    "                 \"JobInterestGameDev\": \"GameDev\", \"JobInterestInfoSec\": \"InfoSec\",\n",
    "                 \"JobInterestMobile\": \"Mobile\", \"JobInterestQAEngr\": \"QAEngr\", \"JobInterestUX\": \"UX\"},\n",
    "                 axis=1, inplace=True)\n",
    "\n",
    "for job in job_interests_list: #We couldn't slice it with the list because of a warning, we will just loop instead\n",
    "    relevant[job].replace({np.nan: False, 1.0: True}, inplace=True)\n",
    "\n",
    "def interest_merger(row):\n",
    "    #Function takes in a row, appends all job interests in our job_interests_list from before that have values \"True\"\n",
    "    job_interest = []\n",
    "    for job in job_interests_list:\n",
    "        if row.loc[job] == True:\n",
    "            job_interest.append(job)\n",
    "    if len(job_interest) > 0:\n",
    "        return job_interest\n",
    "    else:\n",
    "        return np.nan\n",
    "\n",
    "relevant[\"Job Interests\"] = relevant.apply(interest_merger, axis=1)\n",
    "relevant[\"Job Interests\"].head()"
   ]
  },
  {
   "cell_type": "markdown",
   "metadata": {},
   "source": [
    "Now, we will drop the columns we won't need anymore:"
   ]
  },
  {
   "cell_type": "code",
   "execution_count": 7,
   "metadata": {},
   "outputs": [
    {
     "name": "stdout",
     "output_type": "stream",
     "text": [
      "Index(['Age', 'CityPopulation', 'CountryLive', 'EmploymentField',\n",
      "       'EmploymentStatus', 'Gender', 'GenderOther', 'HasChildren',\n",
      "       'HasHighSpdInternet', 'Income', 'IsEthnicMinority', 'JobPref',\n",
      "       'JobRelocateYesNo', 'MoneyForLearning', 'SchoolDegree', 'SchoolMajor',\n",
      "       'Job Interests'],\n",
      "      dtype='object')\n"
     ]
    }
   ],
   "source": [
    "relevant.drop(job_interests_list, axis=1, inplace=True)\n",
    "print(relevant.columns)"
   ]
  },
  {
   "cell_type": "markdown",
   "metadata": {},
   "source": [
    "Let's take a look at other columns to see if they need any cleaning:"
   ]
  },
  {
   "cell_type": "code",
   "execution_count": 8,
   "metadata": {
    "scrolled": true
   },
   "outputs": [
    {
     "name": "stdout",
     "output_type": "stream",
     "text": [
      "<class 'pandas.core.frame.DataFrame'>\n",
      "RangeIndex: 18175 entries, 0 to 18174\n",
      "Data columns (total 17 columns):\n",
      " #   Column              Non-Null Count  Dtype  \n",
      "---  ------              --------------  -----  \n",
      " 0   Age                 15367 non-null  float64\n",
      " 1   CityPopulation      15354 non-null  object \n",
      " 2   CountryLive         15336 non-null  object \n",
      " 3   EmploymentField     8116 non-null   object \n",
      " 4   EmploymentStatus    14345 non-null  object \n",
      " 5   Gender              15454 non-null  object \n",
      " 6   GenderOther         55 non-null     object \n",
      " 7   HasChildren         3858 non-null   float64\n",
      " 8   HasHighSpdInternet  15380 non-null  float64\n",
      " 9   Income              7623 non-null   float64\n",
      " 10  IsEthnicMinority    15293 non-null  float64\n",
      " 11  JobPref             13483 non-null  object \n",
      " 12  JobRelocateYesNo    6503 non-null   float64\n",
      " 13  MoneyForLearning    16577 non-null  float64\n",
      " 14  SchoolDegree        15368 non-null  object \n",
      " 15  SchoolMajor         8727 non-null   object \n",
      " 16  Job Interests       7927 non-null   object \n",
      "dtypes: float64(7), object(10)\n",
      "memory usage: 2.4+ MB\n"
     ]
    }
   ],
   "source": [
    "relevant.info()"
   ]
  },
  {
   "cell_type": "code",
   "execution_count": 9,
   "metadata": {
    "scrolled": true
   },
   "outputs": [
    {
     "data": {
      "text/plain": [
       "count    15367.000000\n",
       "mean        27.691872\n",
       "std          8.559239\n",
       "min          0.000000\n",
       "25%         22.000000\n",
       "50%         26.000000\n",
       "75%         32.000000\n",
       "max         90.000000\n",
       "Name: Age, dtype: float64"
      ]
     },
     "execution_count": 9,
     "metadata": {},
     "output_type": "execute_result"
    }
   ],
   "source": [
    "relevant.Age.describe()"
   ]
  },
  {
   "cell_type": "code",
   "execution_count": 10,
   "metadata": {
    "scrolled": true
   },
   "outputs": [
    {
     "data": {
      "text/plain": [
       "90.0       1\n",
       "76.0       1\n",
       "75.0       1\n",
       "73.0       1\n",
       "72.0       2\n",
       "        ... \n",
       "3.0        1\n",
       "2.0        2\n",
       "1.0        2\n",
       "0.0        4\n",
       "NaN     2808\n",
       "Name: Age, Length: 74, dtype: int64"
      ]
     },
     "execution_count": 10,
     "metadata": {},
     "output_type": "execute_result"
    }
   ],
   "source": [
    "relevant.Age.value_counts(dropna=False).sort_index(ascending=False)"
   ]
  },
  {
   "cell_type": "markdown",
   "metadata": {},
   "source": [
    "As we can see, there are around 2808 missing values in column \"Age\". We will come back for these later. For now, we will get rid of outliers like \"0\" or \"1\" since they are low in number."
   ]
  },
  {
   "cell_type": "code",
   "execution_count": 11,
   "metadata": {},
   "outputs": [
    {
     "data": {
      "text/plain": [
       "12.0      30\n",
       "11.0       7\n",
       "10.0       3\n",
       "8.0        2\n",
       "NaN     2808\n",
       "Name: Age, dtype: int64"
      ]
     },
     "execution_count": 11,
     "metadata": {},
     "output_type": "execute_result"
    }
   ],
   "source": [
    "relevant = relevant[(relevant[\"Age\"] >= 8) | (relevant[\"Age\"].isnull())]\n",
    "relevant.Age.value_counts(dropna=False).sort_index(ascending=False).tail()"
   ]
  },
  {
   "cell_type": "markdown",
   "metadata": {},
   "source": [
    "Now that we only have people who are literate, we can move on to the next columns."
   ]
  },
  {
   "cell_type": "code",
   "execution_count": 12,
   "metadata": {},
   "outputs": [
    {
     "data": {
      "text/plain": [
       "more than 1 million              6530\n",
       "between 100,000 and 1 million    5276\n",
       "less than 100,000                3541\n",
       "NaN                              2818\n",
       "Name: CityPopulation, dtype: int64"
      ]
     },
     "execution_count": 12,
     "metadata": {},
     "output_type": "execute_result"
    }
   ],
   "source": [
    "relevant.CityPopulation.value_counts(dropna=False)"
   ]
  },
  {
   "cell_type": "markdown",
   "metadata": {},
   "source": [
    "As we can see, this data is ordinal and contains 202 missing values. Categories seem to have names that might overcrowd a plot later on, so we will replace them with shorter names like \"Great\", \"Small\" and \"Medium\" instead."
   ]
  },
  {
   "cell_type": "code",
   "execution_count": 13,
   "metadata": {},
   "outputs": [
    {
     "data": {
      "text/plain": [
       "Great     6530\n",
       "Medium    5276\n",
       "Small     3541\n",
       "NaN       2818\n",
       "Name: CityPopulation, dtype: int64"
      ]
     },
     "execution_count": 13,
     "metadata": {},
     "output_type": "execute_result"
    }
   ],
   "source": [
    "relevant[\"CityPopulation\"].replace({\"more than 1 million\": \"Great\",\n",
    "                                    \"between 100,000 and 1 million\": \"Medium\",\n",
    "                                    \"less than 100,000\": \"Small\"}, inplace=True)\n",
    "relevant.CityPopulation.value_counts(dropna=False)"
   ]
  },
  {
   "cell_type": "markdown",
   "metadata": {},
   "source": [
    "Moving on with the other columns:"
   ]
  },
  {
   "cell_type": "code",
   "execution_count": 14,
   "metadata": {
    "scrolled": true
   },
   "outputs": [
    {
     "data": {
      "text/plain": [
       "United States of America    5790\n",
       "NaN                         2837\n",
       "India                       1400\n",
       "United Kingdom               757\n",
       "Canada                       615\n",
       "                            ... \n",
       "Vanuatu                        1\n",
       "Virgin Islands (British)       1\n",
       "Tajikistan                     1\n",
       "Burundi                        1\n",
       "Sierra Leone                   1\n",
       "Name: CountryLive, Length: 173, dtype: int64"
      ]
     },
     "execution_count": 14,
     "metadata": {},
     "output_type": "execute_result"
    }
   ],
   "source": [
    "relevant.CountryLive.value_counts(dropna=False)"
   ]
  },
  {
   "cell_type": "code",
   "execution_count": 15,
   "metadata": {
    "scrolled": false
   },
   "outputs": [
    {
     "data": {
      "text/plain": [
       "architecture or physical engineering       202\n",
       "arts, entertainment, sports, or media      372\n",
       "construction and extraction                129\n",
       "education                                  626\n",
       "farming, fishing, and forestry              38\n",
       "finance                                    264\n",
       "food and beverage                          386\n",
       "health care                                324\n",
       "law enforcement and fire and rescue         40\n",
       "legal                                       70\n",
       "office and administrative support          361\n",
       "sales                                      415\n",
       "software development and IT               4718\n",
       "transportation                             167\n",
       "NaN                                      10053\n",
       "Name: EmploymentField, dtype: int64"
      ]
     },
     "execution_count": 15,
     "metadata": {},
     "output_type": "execute_result"
    }
   ],
   "source": [
    "relevant.EmploymentField.value_counts(dropna=False).sort_index()"
   ]
  },
  {
   "cell_type": "code",
   "execution_count": 16,
   "metadata": {},
   "outputs": [
    {
     "data": {
      "text/plain": [
       "A stay-at-home parent or homemaker       214\n",
       "Doing an unpaid internship               339\n",
       "Employed for wages                      7620\n",
       "Military                                  87\n",
       "Not working and not looking for work     906\n",
       "Not working but looking for work        3147\n",
       "Retired                                   32\n",
       "Self-employed business owner             534\n",
       "Self-employed freelancer                1198\n",
       "Unable to work                           261\n",
       "NaN                                     3827\n",
       "Name: EmploymentStatus, dtype: int64"
      ]
     },
     "execution_count": 16,
     "metadata": {},
     "output_type": "execute_result"
    }
   ],
   "source": [
    "relevant.EmploymentStatus.value_counts(dropna=False).sort_index()"
   ]
  },
  {
   "cell_type": "code",
   "execution_count": 17,
   "metadata": {},
   "outputs": [
    {
     "data": {
      "text/plain": [
       "agender           37\n",
       "female          2930\n",
       "genderqueer       71\n",
       "male           12340\n",
       "trans             68\n",
       "NaN             2719\n",
       "Name: Gender, dtype: int64"
      ]
     },
     "execution_count": 17,
     "metadata": {},
     "output_type": "execute_result"
    }
   ],
   "source": [
    "relevant.Gender.value_counts(dropna=False).sort_index()"
   ]
  },
  {
   "cell_type": "code",
   "execution_count": 18,
   "metadata": {
    "scrolled": true
   },
   "outputs": [
    {
     "data": {
      "text/plain": [
       "54                                                                        1\n",
       "Apache Helicopter                                                         1\n",
       "Apache attack helicopter                                                  1\n",
       "Apache helicopter                                                         1\n",
       "Appache Attack Helecopter                                                 1\n",
       "Attack Helicopter                                                         2\n",
       "AttackHelicopter                                                          1\n",
       "Bigender                                                                  1\n",
       "Cis White Male                                                            1\n",
       "Computer                                                                  1\n",
       "Genderfluid                                                               1\n",
       "Genderqueer foxkin demifluid trans-shemale intergay multi bisexual        1\n",
       "Hawk                                                                      1\n",
       "Irrelevant                                                                1\n",
       "King Penguin                                                              1\n",
       "Male (there are only 2 genders)                                           1\n",
       "Male. There are only 2 genders.                                           1\n",
       "Nonconforming                                                             1\n",
       "Otter                                                                     1\n",
       "Reptilian-trans-queer-godzilla                                            1\n",
       "Smorf                                                                     1\n",
       "THERE ARE ONLY TWO GENDERS                                                1\n",
       "There are only two genders, you fuck.                                     1\n",
       "There is no other gender except male or female.  I am male.               1\n",
       "What the fuck are the other options?                                      1\n",
       "a                                                                         1\n",
       "abcdefghijklmnopqrstuvwxyz                                                1\n",
       "apache attack helicopter                                                  1\n",
       "apache helicopter                                                         1\n",
       "are you serious with these options...? male                               1\n",
       "attack helicopter                                                         1\n",
       "b                                                                         1\n",
       "bisexual                                                                  1\n",
       "demi-bigender                                                             1\n",
       "genderfluid                                                               3\n",
       "im blanket                                                                1\n",
       "little boy                                                                1\n",
       "masculine of center                                                       1\n",
       "neutrois                                                                  1\n",
       "non-binary                                                                3\n",
       "other                                                                     1\n",
       "pandakin                                                                  1\n",
       "prefer not to say                                                         1\n",
       "questioning                                                               1\n",
       "raw vegan jewish apache helicopter                                        1\n",
       "smth                                                                      1\n",
       "t18-tank                                                                  1\n",
       "why the hell are here more than two genders?!                             1\n",
       "NaN                                                                   18112\n",
       "Name: GenderOther, dtype: int64"
      ]
     },
     "execution_count": 18,
     "metadata": {},
     "output_type": "execute_result"
    }
   ],
   "source": [
    "relevant.GenderOther.value_counts(dropna=False).sort_index()"
   ]
  },
  {
   "cell_type": "markdown",
   "metadata": {},
   "source": [
    "Shoutout to all the people with gender \"Apache Helicopter\" and variants. Also, there are more than 2 genders. We will be removing this column, too. **See in the code cell below how easy it is to delete clowns who say there are only 2 genders from this dataset:**"
   ]
  },
  {
   "cell_type": "code",
   "execution_count": 19,
   "metadata": {},
   "outputs": [
    {
     "data": {
      "text/plain": [
       "Index(['Age', 'CityPopulation', 'CountryLive', 'EmploymentField',\n",
       "       'EmploymentStatus', 'Gender', 'HasChildren', 'HasHighSpdInternet',\n",
       "       'Income', 'IsEthnicMinority', 'JobPref', 'JobRelocateYesNo',\n",
       "       'MoneyForLearning', 'SchoolDegree', 'SchoolMajor', 'Job Interests'],\n",
       "      dtype='object')"
      ]
     },
     "execution_count": 19,
     "metadata": {},
     "output_type": "execute_result"
    }
   ],
   "source": [
    "relevant.drop(\"GenderOther\", axis=1, inplace=True)\n",
    "relevant.columns"
   ]
  },
  {
   "cell_type": "code",
   "execution_count": 20,
   "metadata": {},
   "outputs": [
    {
     "data": {
      "text/plain": [
       "0.0     1504\n",
       "1.0     2350\n",
       "NaN    14311\n",
       "Name: HasChildren, dtype: int64"
      ]
     },
     "execution_count": 20,
     "metadata": {},
     "output_type": "execute_result"
    }
   ],
   "source": [
    "relevant.HasChildren.value_counts(dropna=False).sort_index()"
   ]
  },
  {
   "cell_type": "markdown",
   "metadata": {},
   "source": [
    "Since we have too many missing values and the column is not directly relevant to our topic, we will drop this one, too."
   ]
  },
  {
   "cell_type": "code",
   "execution_count": 21,
   "metadata": {},
   "outputs": [
    {
     "data": {
      "text/plain": [
       "Index(['Age', 'CityPopulation', 'CountryLive', 'EmploymentField',\n",
       "       'EmploymentStatus', 'Gender', 'HasHighSpdInternet', 'Income',\n",
       "       'IsEthnicMinority', 'JobPref', 'JobRelocateYesNo', 'MoneyForLearning',\n",
       "       'SchoolDegree', 'SchoolMajor', 'Job Interests'],\n",
       "      dtype='object')"
      ]
     },
     "execution_count": 21,
     "metadata": {},
     "output_type": "execute_result"
    }
   ],
   "source": [
    "relevant.drop(\"HasChildren\", axis=1, inplace=True)\n",
    "relevant.columns"
   ]
  },
  {
   "cell_type": "code",
   "execution_count": 22,
   "metadata": {},
   "outputs": [
    {
     "data": {
      "text/plain": [
       "0.0     2230\n",
       "1.0    13143\n",
       "NaN     2792\n",
       "Name: HasHighSpdInternet, dtype: int64"
      ]
     },
     "execution_count": 22,
     "metadata": {},
     "output_type": "execute_result"
    }
   ],
   "source": [
    "relevant.HasHighSpdInternet.value_counts(dropna=False).sort_index()"
   ]
  },
  {
   "cell_type": "markdown",
   "metadata": {},
   "source": [
    "As we can see, this column has only a few missing values compared to its size. Therefore, we will leave this as is for now, too."
   ]
  },
  {
   "cell_type": "code",
   "execution_count": 23,
   "metadata": {},
   "outputs": [
    {
     "data": {
      "text/plain": [
       "count       7622.000000\n",
       "mean       43152.717791\n",
       "std        61799.271199\n",
       "min         6000.000000\n",
       "25%        17000.000000\n",
       "50%        33000.000000\n",
       "75%        55000.000000\n",
       "max      1000000.000000\n",
       "Name: Income, dtype: float64"
      ]
     },
     "execution_count": 23,
     "metadata": {},
     "output_type": "execute_result"
    }
   ],
   "source": [
    "relevant.Income.describe()"
   ]
  },
  {
   "cell_type": "code",
   "execution_count": 24,
   "metadata": {
    "scrolled": true
   },
   "outputs": [
    {
     "data": {
      "text/plain": [
       "6000.0         204\n",
       "6120.0           1\n",
       "6150.0           1\n",
       "6163.0           1\n",
       "6200.0           1\n",
       "             ...  \n",
       "602228.0         1\n",
       "700000.0         1\n",
       "945000.0         1\n",
       "1000000.0       20\n",
       "NaN          10543\n",
       "Name: Income, Length: 586, dtype: int64"
      ]
     },
     "execution_count": 24,
     "metadata": {},
     "output_type": "execute_result"
    }
   ],
   "source": [
    "relevant.Income.value_counts(dropna=False).sort_index()"
   ]
  },
  {
   "cell_type": "markdown",
   "metadata": {},
   "source": [
    "As we can see above, very few people have stated their salaries as the second and second last values compared to the first and very last ones. This could be because of these values being limits to the user inputs. We will keep them as they are for now."
   ]
  },
  {
   "cell_type": "code",
   "execution_count": 25,
   "metadata": {},
   "outputs": [
    {
     "data": {
      "text/plain": [
       "0.0    11648\n",
       "1.0     3638\n",
       "NaN     2879\n",
       "Name: IsEthnicMinority, dtype: int64"
      ]
     },
     "execution_count": 25,
     "metadata": {},
     "output_type": "execute_result"
    }
   ],
   "source": [
    "relevant.IsEthnicMinority.value_counts(dropna=False).sort_index()"
   ]
  },
  {
   "cell_type": "markdown",
   "metadata": {},
   "source": [
    "This column again has very few missing values. We will come back and handle these missing values later so that we can convert the column into Boolean type."
   ]
  },
  {
   "cell_type": "code",
   "execution_count": 26,
   "metadata": {},
   "outputs": [
    {
     "data": {
      "text/plain": [
       "freelance                               2620\n",
       "start your own business                 2779\n",
       "work for a government                    366\n",
       "work for a medium-sized company         2977\n",
       "work for a multinational corporation    1700\n",
       "work for a nonprofit                     834\n",
       "work for a startup                      2199\n",
       "NaN                                     4690\n",
       "Name: JobPref, dtype: int64"
      ]
     },
     "execution_count": 26,
     "metadata": {},
     "output_type": "execute_result"
    }
   ],
   "source": [
    "relevant.JobPref.value_counts(dropna=False).sort_index()"
   ]
  },
  {
   "cell_type": "code",
   "execution_count": 27,
   "metadata": {},
   "outputs": [
    {
     "data": {
      "text/plain": [
       "0.0     1482\n",
       "1.0     5017\n",
       "NaN    11666\n",
       "Name: JobRelocateYesNo, dtype: int64"
      ]
     },
     "execution_count": 27,
     "metadata": {},
     "output_type": "execute_result"
    }
   ],
   "source": [
    "relevant.JobRelocateYesNo.value_counts(dropna=False).sort_index()"
   ]
  },
  {
   "cell_type": "code",
   "execution_count": 28,
   "metadata": {
    "scrolled": true
   },
   "outputs": [
    {
     "data": {
      "text/plain": [
       "0.0         7983\n",
       "1.0           22\n",
       "2.0            4\n",
       "3.0            8\n",
       "4.0            7\n",
       "            ... \n",
       "120000.0       1\n",
       "170000.0       1\n",
       "200000.0       2\n",
       "210000.0       1\n",
       "NaN         1596\n",
       "Name: MoneyForLearning, Length: 334, dtype: int64"
      ]
     },
     "execution_count": 28,
     "metadata": {},
     "output_type": "execute_result"
    }
   ],
   "source": [
    "relevant.MoneyForLearning.value_counts(dropna=False).sort_index()"
   ]
  },
  {
   "cell_type": "markdown",
   "metadata": {},
   "source": [
    "When we look at the richer side of this scale, we see a crazy outlier such as 200000. No one probably wants to invest that much money into e-learning. Let's generate descriptive statistics using Series.describe():"
   ]
  },
  {
   "cell_type": "code",
   "execution_count": 29,
   "metadata": {},
   "outputs": [
    {
     "data": {
      "text/plain": [
       "count     16569.000000\n",
       "mean        956.850504\n",
       "std        5003.638370\n",
       "min           0.000000\n",
       "25%           0.000000\n",
       "50%          10.000000\n",
       "75%         200.000000\n",
       "max      210000.000000\n",
       "Name: MoneyForLearning, dtype: float64"
      ]
     },
     "execution_count": 29,
     "metadata": {},
     "output_type": "execute_result"
    }
   ],
   "source": [
    "relevant.MoneyForLearning.describe()"
   ]
  },
  {
   "cell_type": "markdown",
   "metadata": {},
   "source": [
    "According to [this](http://www.arcytech.org/coursera/) article, Coursera's specialized programs last 4-6 months and cost between \\\\$39-\\\\$79 per month on average. So, one would spend \\\\$474 at most. Let's assume that we will charge \\\\$5000 at most with all the consulting and other kind of services we might be offering **including** additional resources the students might need to refer to. We will turn back after we drop or fill missing values from other columns and we will see if we will still feel the need to ditch values above \\\\$5000 and below \\\\$20."
   ]
  },
  {
   "cell_type": "code",
   "execution_count": 30,
   "metadata": {},
   "outputs": [
    {
     "data": {
      "text/plain": [
       "Ph.D.                                        132\n",
       "associate's degree                           641\n",
       "bachelor's degree                           5848\n",
       "high school diploma or equivalent (GED)     1871\n",
       "master's degree (non-professional)          1468\n",
       "no high school (secondary school)            407\n",
       "professional degree (MBA, MD, JD, etc.)      775\n",
       "some college credit, no degree              2602\n",
       "some high school                            1112\n",
       "trade, technical, or vocational training     504\n",
       "NaN                                         2805\n",
       "Name: SchoolDegree, dtype: int64"
      ]
     },
     "execution_count": 30,
     "metadata": {},
     "output_type": "execute_result"
    }
   ],
   "source": [
    "relevant.SchoolDegree.value_counts(dropna=False).sort_index()"
   ]
  },
  {
   "cell_type": "code",
   "execution_count": 31,
   "metadata": {},
   "outputs": [
    {
     "data": {
      "text/plain": [
       "NaN                                       9444\n",
       "Computer Science                          1344\n",
       "Information Technology                     382\n",
       "Electrical and Electronics Engineering     284\n",
       "Economics                                  211\n",
       "                                          ... \n",
       "Aromatherapy, Herbalism, and Reiki           1\n",
       "School Librarian                             1\n",
       "Office Management                            1\n",
       "Acupuncture                                  1\n",
       "Human Services                               1\n",
       "Name: SchoolMajor, Length: 472, dtype: int64"
      ]
     },
     "execution_count": 31,
     "metadata": {},
     "output_type": "execute_result"
    }
   ],
   "source": [
    "relevant.SchoolMajor.value_counts(dropna=False).sort_values(ascending=False)"
   ]
  },
  {
   "cell_type": "markdown",
   "metadata": {},
   "source": [
    "Now that we're done with exploring the columns, we will check out the missing values and handle them."
   ]
  },
  {
   "cell_type": "code",
   "execution_count": 32,
   "metadata": {},
   "outputs": [
    {
     "name": "stdout",
     "output_type": "stream",
     "text": [
      "<class 'pandas.core.frame.DataFrame'>\n",
      "Int64Index: 18165 entries, 0 to 18174\n",
      "Data columns (total 15 columns):\n",
      " #   Column              Non-Null Count  Dtype  \n",
      "---  ------              --------------  -----  \n",
      " 0   Age                 15357 non-null  float64\n",
      " 1   CityPopulation      15347 non-null  object \n",
      " 2   CountryLive         15328 non-null  object \n",
      " 3   EmploymentField     8112 non-null   object \n",
      " 4   EmploymentStatus    14338 non-null  object \n",
      " 5   Gender              15446 non-null  object \n",
      " 6   HasHighSpdInternet  15373 non-null  float64\n",
      " 7   Income              7622 non-null   float64\n",
      " 8   IsEthnicMinority    15286 non-null  float64\n",
      " 9   JobPref             13475 non-null  object \n",
      " 10  JobRelocateYesNo    6499 non-null   float64\n",
      " 11  MoneyForLearning    16569 non-null  float64\n",
      " 12  SchoolDegree        15360 non-null  object \n",
      " 13  SchoolMajor         8721 non-null   object \n",
      " 14  Job Interests       7921 non-null   object \n",
      "dtypes: float64(6), object(9)\n",
      "memory usage: 2.2+ MB\n"
     ]
    }
   ],
   "source": [
    "relevant.info()"
   ]
  },
  {
   "cell_type": "markdown",
   "metadata": {},
   "source": [
    "As we can see, some columns have almost half of their values missing. These columns include:\n",
    "* Employment Field\n",
    "* Income\n",
    "* Job Relocation (Yes/No)\n",
    "* School Major\n",
    "\n",
    "Since these columns are not that directly related to our topic and have a lot of missing values, we will drop them."
   ]
  },
  {
   "cell_type": "code",
   "execution_count": 33,
   "metadata": {},
   "outputs": [],
   "source": [
    "relevant.drop(columns=[\"EmploymentField\", \"Income\", \"JobRelocateYesNo\", \"SchoolMajor\"], inplace=True)"
   ]
  },
  {
   "cell_type": "code",
   "execution_count": 34,
   "metadata": {},
   "outputs": [
    {
     "name": "stdout",
     "output_type": "stream",
     "text": [
      "<class 'pandas.core.frame.DataFrame'>\n",
      "Int64Index: 18165 entries, 0 to 18174\n",
      "Data columns (total 11 columns):\n",
      " #   Column              Non-Null Count  Dtype  \n",
      "---  ------              --------------  -----  \n",
      " 0   Age                 15357 non-null  float64\n",
      " 1   CityPopulation      15347 non-null  object \n",
      " 2   CountryLive         15328 non-null  object \n",
      " 3   EmploymentStatus    14338 non-null  object \n",
      " 4   Gender              15446 non-null  object \n",
      " 5   HasHighSpdInternet  15373 non-null  float64\n",
      " 6   IsEthnicMinority    15286 non-null  float64\n",
      " 7   JobPref             13475 non-null  object \n",
      " 8   MoneyForLearning    16569 non-null  float64\n",
      " 9   SchoolDegree        15360 non-null  object \n",
      " 10  Job Interests       7921 non-null   object \n",
      "dtypes: float64(4), object(7)\n",
      "memory usage: 1.7+ MB\n"
     ]
    }
   ],
   "source": [
    "relevant.info()"
   ]
  },
  {
   "cell_type": "markdown",
   "metadata": {},
   "source": [
    "From the columns left, we will first choose people who has job interests since that is directly related to our topic."
   ]
  },
  {
   "cell_type": "code",
   "execution_count": 35,
   "metadata": {},
   "outputs": [
    {
     "name": "stdout",
     "output_type": "stream",
     "text": [
      "<class 'pandas.core.frame.DataFrame'>\n",
      "Int64Index: 7921 entries, 1 to 18174\n",
      "Data columns (total 11 columns):\n",
      " #   Column              Non-Null Count  Dtype  \n",
      "---  ------              --------------  -----  \n",
      " 0   Age                 6649 non-null   float64\n",
      " 1   CityPopulation      6647 non-null   object \n",
      " 2   CountryLive         6646 non-null   object \n",
      " 3   EmploymentStatus    6114 non-null   object \n",
      " 4   Gender              6701 non-null   object \n",
      " 5   HasHighSpdInternet  6672 non-null   float64\n",
      " 6   IsEthnicMinority    6614 non-null   float64\n",
      " 7   JobPref             7843 non-null   object \n",
      " 8   MoneyForLearning    7269 non-null   float64\n",
      " 9   SchoolDegree        6652 non-null   object \n",
      " 10  Job Interests       7921 non-null   object \n",
      "dtypes: float64(4), object(7)\n",
      "memory usage: 742.6+ KB\n"
     ]
    }
   ],
   "source": [
    "chosen_ones = relevant[relevant[\"Job Interests\"].notnull()].copy()\n",
    "chosen_ones.info()"
   ]
  },
  {
   "cell_type": "markdown",
   "metadata": {},
   "source": [
    "Now that we have prioritized thier job interests, we will decide on a threshold to drop rows that contain too many missing values."
   ]
  },
  {
   "cell_type": "code",
   "execution_count": 36,
   "metadata": {},
   "outputs": [
    {
     "name": "stdout",
     "output_type": "stream",
     "text": [
      "<class 'pandas.core.frame.DataFrame'>\n",
      "Int64Index: 6745 entries, 1 to 18174\n",
      "Data columns (total 11 columns):\n",
      " #   Column              Non-Null Count  Dtype  \n",
      "---  ------              --------------  -----  \n",
      " 0   Age                 6648 non-null   float64\n",
      " 1   CityPopulation      6645 non-null   object \n",
      " 2   CountryLive         6645 non-null   object \n",
      " 3   EmploymentStatus    6114 non-null   object \n",
      " 4   Gender              6696 non-null   object \n",
      " 5   HasHighSpdInternet  6669 non-null   float64\n",
      " 6   IsEthnicMinority    6614 non-null   float64\n",
      " 7   JobPref             6685 non-null   object \n",
      " 8   MoneyForLearning    6268 non-null   float64\n",
      " 9   SchoolDegree        6651 non-null   object \n",
      " 10  Job Interests       6745 non-null   object \n",
      "dtypes: float64(4), object(7)\n",
      "memory usage: 632.3+ KB\n"
     ]
    }
   ],
   "source": [
    "chosen_ones.dropna(axis=0, thresh=5, inplace=True)\n",
    "chosen_ones.info()"
   ]
  },
  {
   "cell_type": "markdown",
   "metadata": {},
   "source": [
    "We will now go back to column \"MoneyForLearning\"."
   ]
  },
  {
   "cell_type": "code",
   "execution_count": 37,
   "metadata": {},
   "outputs": [
    {
     "data": {
      "text/plain": [
       "count      6268.000000\n",
       "mean        899.633057\n",
       "std        4963.441575\n",
       "min           0.000000\n",
       "25%           0.000000\n",
       "50%          10.000000\n",
       "75%         200.000000\n",
       "max      200000.000000\n",
       "Name: MoneyForLearning, dtype: float64"
      ]
     },
     "execution_count": 37,
     "metadata": {},
     "output_type": "execute_result"
    }
   ],
   "source": [
    "chosen_ones.MoneyForLearning.describe()"
   ]
  },
  {
   "cell_type": "code",
   "execution_count": 38,
   "metadata": {},
   "outputs": [],
   "source": [
    "potential_customers = chosen_ones[(chosen_ones[\"MoneyForLearning\"] <= 5000) &(chosen_ones[\"MoneyForLearning\"] > 20)]"
   ]
  },
  {
   "cell_type": "code",
   "execution_count": 39,
   "metadata": {},
   "outputs": [
    {
     "name": "stdout",
     "output_type": "stream",
     "text": [
      "<class 'pandas.core.frame.DataFrame'>\n",
      "Int64Index: 2674 entries, 1 to 18160\n",
      "Data columns (total 11 columns):\n",
      " #   Column              Non-Null Count  Dtype  \n",
      "---  ------              --------------  -----  \n",
      " 0   Age                 2652 non-null   float64\n",
      " 1   CityPopulation      2648 non-null   object \n",
      " 2   CountryLive         2638 non-null   object \n",
      " 3   EmploymentStatus    2513 non-null   object \n",
      " 4   Gender              2660 non-null   object \n",
      " 5   HasHighSpdInternet  2651 non-null   float64\n",
      " 6   IsEthnicMinority    2644 non-null   float64\n",
      " 7   JobPref             2652 non-null   object \n",
      " 8   MoneyForLearning    2674 non-null   float64\n",
      " 9   SchoolDegree        2647 non-null   object \n",
      " 10  Job Interests       2674 non-null   object \n",
      "dtypes: float64(4), object(7)\n",
      "memory usage: 250.7+ KB\n"
     ]
    }
   ],
   "source": [
    "potential_customers.info()"
   ]
  },
  {
   "cell_type": "markdown",
   "metadata": {},
   "source": [
    "Now we will convert some columns from float to Boolean type."
   ]
  },
  {
   "cell_type": "code",
   "execution_count": 40,
   "metadata": {},
   "outputs": [],
   "source": [
    "pd.set_option('mode.chained_assignment', None)\n",
    "potential_customers[[\"HasHighSpdInternet\", \"IsEthnicMinority\"]] = potential_customers[[\"HasHighSpdInternet\", \"IsEthnicMinority\"]].replace({1.0: True, 0.0: False, np.nan:False})"
   ]
  },
  {
   "cell_type": "code",
   "execution_count": 41,
   "metadata": {},
   "outputs": [
    {
     "data": {
      "text/html": [
       "<div>\n",
       "<style scoped>\n",
       "    .dataframe tbody tr th:only-of-type {\n",
       "        vertical-align: middle;\n",
       "    }\n",
       "\n",
       "    .dataframe tbody tr th {\n",
       "        vertical-align: top;\n",
       "    }\n",
       "\n",
       "    .dataframe thead th {\n",
       "        text-align: right;\n",
       "    }\n",
       "</style>\n",
       "<table border=\"1\" class=\"dataframe\">\n",
       "  <thead>\n",
       "    <tr style=\"text-align: right;\">\n",
       "      <th></th>\n",
       "      <th>Age</th>\n",
       "      <th>CityPopulation</th>\n",
       "      <th>CountryLive</th>\n",
       "      <th>EmploymentStatus</th>\n",
       "      <th>Gender</th>\n",
       "      <th>HasHighSpdInternet</th>\n",
       "      <th>IsEthnicMinority</th>\n",
       "      <th>JobPref</th>\n",
       "      <th>MoneyForLearning</th>\n",
       "      <th>SchoolDegree</th>\n",
       "      <th>Job Interests</th>\n",
       "    </tr>\n",
       "  </thead>\n",
       "  <tbody>\n",
       "    <tr>\n",
       "      <th>1</th>\n",
       "      <td>34.0</td>\n",
       "      <td>Small</td>\n",
       "      <td>United States of America</td>\n",
       "      <td>Not working but looking for work</td>\n",
       "      <td>male</td>\n",
       "      <td>True</td>\n",
       "      <td>False</td>\n",
       "      <td>work for a nonprofit</td>\n",
       "      <td>80.0</td>\n",
       "      <td>some college credit, no degree</td>\n",
       "      <td>[FullStack]</td>\n",
       "    </tr>\n",
       "    <tr>\n",
       "      <th>2</th>\n",
       "      <td>21.0</td>\n",
       "      <td>Great</td>\n",
       "      <td>United States of America</td>\n",
       "      <td>Employed for wages</td>\n",
       "      <td>male</td>\n",
       "      <td>True</td>\n",
       "      <td>True</td>\n",
       "      <td>work for a medium-sized company</td>\n",
       "      <td>1000.0</td>\n",
       "      <td>high school diploma or equivalent (GED)</td>\n",
       "      <td>[BackEnd, DevOps, FrontEnd, FullStack, Mobile]</td>\n",
       "    </tr>\n",
       "    <tr>\n",
       "      <th>9</th>\n",
       "      <td>24.0</td>\n",
       "      <td>Great</td>\n",
       "      <td>Mexico</td>\n",
       "      <td>Not working but looking for work</td>\n",
       "      <td>male</td>\n",
       "      <td>True</td>\n",
       "      <td>False</td>\n",
       "      <td>work for a medium-sized company</td>\n",
       "      <td>100.0</td>\n",
       "      <td>high school diploma or equivalent (GED)</td>\n",
       "      <td>[BackEnd, FrontEnd, FullStack, GameDev, QAEngr...</td>\n",
       "    </tr>\n",
       "    <tr>\n",
       "      <th>16</th>\n",
       "      <td>29.0</td>\n",
       "      <td>Medium</td>\n",
       "      <td>United States of America</td>\n",
       "      <td>Employed for wages</td>\n",
       "      <td>male</td>\n",
       "      <td>True</td>\n",
       "      <td>False</td>\n",
       "      <td>work for a medium-sized company</td>\n",
       "      <td>200.0</td>\n",
       "      <td>master's degree (non-professional)</td>\n",
       "      <td>[FullStack]</td>\n",
       "    </tr>\n",
       "    <tr>\n",
       "      <th>18</th>\n",
       "      <td>46.0</td>\n",
       "      <td>Great</td>\n",
       "      <td>United States of America</td>\n",
       "      <td>Self-employed freelancer</td>\n",
       "      <td>female</td>\n",
       "      <td>True</td>\n",
       "      <td>True</td>\n",
       "      <td>work for a nonprofit</td>\n",
       "      <td>500.0</td>\n",
       "      <td>bachelor's degree</td>\n",
       "      <td>[BackEnd, FrontEnd, FullStack, UX]</td>\n",
       "    </tr>\n",
       "  </tbody>\n",
       "</table>\n",
       "</div>"
      ],
      "text/plain": [
       "     Age CityPopulation               CountryLive  \\\n",
       "1   34.0          Small  United States of America   \n",
       "2   21.0          Great  United States of America   \n",
       "9   24.0          Great                    Mexico   \n",
       "16  29.0         Medium  United States of America   \n",
       "18  46.0          Great  United States of America   \n",
       "\n",
       "                    EmploymentStatus  Gender  HasHighSpdInternet  \\\n",
       "1   Not working but looking for work    male                True   \n",
       "2                 Employed for wages    male                True   \n",
       "9   Not working but looking for work    male                True   \n",
       "16                Employed for wages    male                True   \n",
       "18          Self-employed freelancer  female                True   \n",
       "\n",
       "    IsEthnicMinority                          JobPref  MoneyForLearning  \\\n",
       "1              False             work for a nonprofit              80.0   \n",
       "2               True  work for a medium-sized company            1000.0   \n",
       "9              False  work for a medium-sized company             100.0   \n",
       "16             False  work for a medium-sized company             200.0   \n",
       "18              True             work for a nonprofit             500.0   \n",
       "\n",
       "                               SchoolDegree  \\\n",
       "1            some college credit, no degree   \n",
       "2   high school diploma or equivalent (GED)   \n",
       "9   high school diploma or equivalent (GED)   \n",
       "16       master's degree (non-professional)   \n",
       "18                        bachelor's degree   \n",
       "\n",
       "                                        Job Interests  \n",
       "1                                         [FullStack]  \n",
       "2      [BackEnd, DevOps, FrontEnd, FullStack, Mobile]  \n",
       "9   [BackEnd, FrontEnd, FullStack, GameDev, QAEngr...  \n",
       "16                                        [FullStack]  \n",
       "18                 [BackEnd, FrontEnd, FullStack, UX]  "
      ]
     },
     "execution_count": 41,
     "metadata": {},
     "output_type": "execute_result"
    }
   ],
   "source": [
    "potential_customers.head()"
   ]
  },
  {
   "cell_type": "markdown",
   "metadata": {},
   "source": [
    "# 2. Analysis & Visualization of the Data\n",
    "\n",
    "So far, we have removed A LOT of data. We did that because our population of interest is people who would buy our products. For example, we only kept people who have a budget between \\\\$20-\\\\$5000 because we want to earn money from this ad investment and we are not selling anything that costs as much as a university degree.\n",
    "\n",
    "Let's go back to the job interests we have merged into one column:"
   ]
  },
  {
   "cell_type": "code",
   "execution_count": 42,
   "metadata": {},
   "outputs": [
    {
     "name": "stdout",
     "output_type": "stream",
     "text": [
      "['BackEnd', 'DataEngr', 'DataSci', 'DevOps', 'FrontEnd', 'FullStack', 'GameDev', 'InfoSec', 'Mobile', 'QAEngr', 'UX']\n"
     ]
    }
   ],
   "source": [
    "print(job_interests_list)"
   ]
  },
  {
   "cell_type": "markdown",
   "metadata": {},
   "source": [
    "What we mainly want to focus on is Mobile and Web. Our priorities in this category include:\n",
    "* Mobile\n",
    "* Front-end\n",
    "* Back-end\n",
    "* FullStack\n",
    "\n",
    "We will now see if the data we're left with is represantative of our population of interest or not. For this, we will be looking for people who are interested in Web Development and Mobile Development."
   ]
  },
  {
   "cell_type": "code",
   "execution_count": 43,
   "metadata": {},
   "outputs": [
    {
     "data": {
      "text/html": [
       "<div>\n",
       "<style scoped>\n",
       "    .dataframe tbody tr th:only-of-type {\n",
       "        vertical-align: middle;\n",
       "    }\n",
       "\n",
       "    .dataframe tbody tr th {\n",
       "        vertical-align: top;\n",
       "    }\n",
       "\n",
       "    .dataframe thead th {\n",
       "        text-align: right;\n",
       "    }\n",
       "</style>\n",
       "<table border=\"1\" class=\"dataframe\">\n",
       "  <thead>\n",
       "    <tr style=\"text-align: right;\">\n",
       "      <th></th>\n",
       "      <th>Field</th>\n",
       "      <th>Interest</th>\n",
       "    </tr>\n",
       "  </thead>\n",
       "  <tbody>\n",
       "    <tr>\n",
       "      <th>0</th>\n",
       "      <td>FullStack</td>\n",
       "      <td>%65.67</td>\n",
       "    </tr>\n",
       "    <tr>\n",
       "      <th>1</th>\n",
       "      <td>FrontEnd</td>\n",
       "      <td>%53.44</td>\n",
       "    </tr>\n",
       "    <tr>\n",
       "      <th>2</th>\n",
       "      <td>BackEnd</td>\n",
       "      <td>%41.02</td>\n",
       "    </tr>\n",
       "    <tr>\n",
       "      <th>3</th>\n",
       "      <td>Mobile</td>\n",
       "      <td>%32.46</td>\n",
       "    </tr>\n",
       "    <tr>\n",
       "      <th>4</th>\n",
       "      <td>DataSci</td>\n",
       "      <td>%23.37</td>\n",
       "    </tr>\n",
       "  </tbody>\n",
       "</table>\n",
       "</div>"
      ],
      "text/plain": [
       "       Field Interest\n",
       "0  FullStack   %65.67\n",
       "1   FrontEnd   %53.44\n",
       "2    BackEnd   %41.02\n",
       "3     Mobile   %32.46\n",
       "4    DataSci   %23.37"
      ]
     },
     "execution_count": 43,
     "metadata": {},
     "output_type": "execute_result"
    }
   ],
   "source": [
    "interest_count = dict()\n",
    "\n",
    "for jobs in potential_customers[\"Job Interests\"]:\n",
    "    for job in jobs:\n",
    "        if job in interest_count:\n",
    "            interest_count[job] += 1\n",
    "        else:\n",
    "            interest_count[job] = 1\n",
    "\n",
    "interest_count = pd.DataFrame(interest_count.items(), columns=[\"Field\", \"Interest\"]).sort_values(by=\"Interest\", ascending=False, ignore_index=True)\n",
    "interest_count[\"Interest\"] = interest_count[\"Interest\"].apply(lambda x: \"%\" + str(round(x / potential_customers[\"Job Interests\"].shape[0] * 100, 2)))\n",
    "interest_count.head()"
   ]
  },
  {
   "cell_type": "markdown",
   "metadata": {},
   "source": [
    "As we can see from the table above, most of the customers that we're left with shows interest in Web Development, followed by Mobile Development and Data Science. This means we can move on with the data. We will first look at the age distribution:"
   ]
  },
  {
   "cell_type": "code",
   "execution_count": 44,
   "metadata": {},
   "outputs": [
    {
     "data": {
      "text/plain": [
       "<matplotlib.legend.Legend at 0x191d1a8b1c8>"
      ]
     },
     "execution_count": 44,
     "metadata": {},
     "output_type": "execute_result"
    },
    {
     "data": {
      "image/png": "[encoded data removed]",
      "text/plain": [
       "<Figure size 864x576 with 1 Axes>"
      ]
     },
     "metadata": {},
     "output_type": "display_data"
    }
   ],
   "source": [
    "potential_customers[\"Age\"].hist(grid=False, label=\"Age Distribution of Target Audience\", bins=range(0,81,10), figsize=(12,8))\n",
    "plt.axvline(potential_customers[\"Age\"].mean(), c=\"Green\", label=round(potential_customers[\"Age\"].mean(), 2))\n",
    "plt.legend()"
   ]
  },
  {
   "cell_type": "markdown",
   "metadata": {},
   "source": [
    "Unsurprisingly, most of our customers tend to be on the younger side with an average of ~30 and most of them are in their 20s. We will visit this to determine marketing means later on. Now, to determine the best market, we will take a look at the countries these people live in. We will only plot countries that have appeared around 1% of the time and more."
   ]
  },
  {
   "cell_type": "code",
   "execution_count": 45,
   "metadata": {},
   "outputs": [
    {
     "data": {
      "text/plain": [
       "<matplotlib.legend.Legend at 0x191d174c6c8>"
      ]
     },
     "execution_count": 45,
     "metadata": {},
     "output_type": "execute_result"
    },
    {
     "data": {
      "image/png": "[encoded data removed]",
      "text/plain": [
       "<Figure size 864x576 with 1 Axes>"
      ]
     },
     "metadata": {},
     "output_type": "display_data"
    }
   ],
   "source": [
    "countries_dist = potential_customers[\"CountryLive\"].value_counts(normalize=True).sort_values(ascending=False).apply(lambda x: round(x * 100, 2))\n",
    "countries_dist = countries_dist[countries_dist[:] > 1]\n",
    "countries_dist.plot.barh(xlim=(0, 51), grid=False, label=\"Appearance (%)\", figsize=(12,8))\n",
    "plt.legend()"
   ]
  },
  {
   "cell_type": "markdown",
   "metadata": {},
   "source": [
    "As we can see above, US students form a huge part of our market, followed by India, UK and Canada. These countries all have a lot in common, including high English proficiencies. Surprisingly, later comes Poland despite very low population compared to most other countries that more than 1% of our target audience is from.\n",
    "\n",
    "Let's see what genders form our audience since this might also help us with marketing strategies later on:"
   ]
  },
  {
   "cell_type": "code",
   "execution_count": 46,
   "metadata": {},
   "outputs": [
    {
     "data": {
      "text/plain": [
       "<matplotlib.axes._subplots.AxesSubplot at 0x191d2a845c8>"
      ]
     },
     "execution_count": 46,
     "metadata": {},
     "output_type": "execute_result"
    },
    {
     "data": {
      "image/png": "[encoded data removed]",
      "text/plain": [
       "<Figure size 864x576 with 1 Axes>"
      ]
     },
     "metadata": {},
     "output_type": "display_data"
    }
   ],
   "source": [
    "potential_customers[\"Gender\"].value_counts(normalize=True).apply(lambda x: round(x * 100, 2)).plot.bar(grid=False, figsize=(12,8))"
   ]
  },
  {
   "cell_type": "markdown",
   "metadata": {},
   "source": [
    "As we can see, most of the survey attendants that fit our criteria are male followed by females and LGBTQ+ members. Sadly, however, while males form around 75% of our population of interest, other gender categories form a very little portion compared.\n",
    "\n",
    "Moving on to education levels:"
   ]
  },
  {
   "cell_type": "code",
   "execution_count": 47,
   "metadata": {},
   "outputs": [
    {
     "data": {
      "text/plain": [
       "<matplotlib.axes._subplots.AxesSubplot at 0x191d2b32cc8>"
      ]
     },
     "execution_count": 47,
     "metadata": {},
     "output_type": "execute_result"
    },
    {
     "data": {
      "image/png": "[encoded data removed]",
      "text/plain": [
       "<Figure size 864x864 with 1 Axes>"
      ]
     },
     "metadata": {},
     "output_type": "display_data"
    }
   ],
   "source": [
    "potential_customers[\"SchoolDegree\"].value_counts(normalize=True).apply(lambda x: round(x * 100, 2)).plot.pie(figsize=(12,12), autopct='%1.1f%%', label=\"\")\n"
   ]
  },
  {
   "cell_type": "markdown",
   "metadata": {},
   "source": [
    "We can conclude from the pie chart above that most people have some higher education experience followed by a 10.6% of people who have graduated from high school.\n",
    "\n",
    "Let's dive a little further on \"CountryLive\" column. We will group budgets of our students by countries they live in:"
   ]
  },
  {
   "cell_type": "code",
   "execution_count": 48,
   "metadata": {},
   "outputs": [
    {
     "data": {
      "text/html": [
       "<div>\n",
       "<style scoped>\n",
       "    .dataframe tbody tr th:only-of-type {\n",
       "        vertical-align: middle;\n",
       "    }\n",
       "\n",
       "    .dataframe tbody tr th {\n",
       "        vertical-align: top;\n",
       "    }\n",
       "\n",
       "    .dataframe thead th {\n",
       "        text-align: right;\n",
       "    }\n",
       "</style>\n",
       "<table border=\"1\" class=\"dataframe\">\n",
       "  <thead>\n",
       "    <tr style=\"text-align: right;\">\n",
       "      <th></th>\n",
       "      <th>MoneyForLearning</th>\n",
       "    </tr>\n",
       "    <tr>\n",
       "      <th>CountryLive</th>\n",
       "      <th></th>\n",
       "    </tr>\n",
       "  </thead>\n",
       "  <tbody>\n",
       "    <tr>\n",
       "      <th>Sri Lanka</th>\n",
       "      <td>2600.000000</td>\n",
       "    </tr>\n",
       "    <tr>\n",
       "      <th>Niger</th>\n",
       "      <td>2514.500000</td>\n",
       "    </tr>\n",
       "    <tr>\n",
       "      <th>Israel</th>\n",
       "      <td>2309.500000</td>\n",
       "    </tr>\n",
       "    <tr>\n",
       "      <th>Taiwan</th>\n",
       "      <td>1966.666667</td>\n",
       "    </tr>\n",
       "    <tr>\n",
       "      <th>Portugal</th>\n",
       "      <td>1955.714286</td>\n",
       "    </tr>\n",
       "  </tbody>\n",
       "</table>\n",
       "</div>"
      ],
      "text/plain": [
       "             MoneyForLearning\n",
       "CountryLive                  \n",
       "Sri Lanka         2600.000000\n",
       "Niger             2514.500000\n",
       "Israel            2309.500000\n",
       "Taiwan            1966.666667\n",
       "Portugal          1955.714286"
      ]
     },
     "execution_count": 48,
     "metadata": {},
     "output_type": "execute_result"
    }
   ],
   "source": [
    "country_budgets = potential_customers[[\"CountryLive\", \"MoneyForLearning\"]].groupby(by=\"CountryLive\").mean().sort_values(by=\"MoneyForLearning\", ascending=False)\n",
    "country_budgets.head()"
   ]
  },
  {
   "cell_type": "markdown",
   "metadata": {},
   "source": [
    "We have aggregated students' budgets using mean values for each country and the results are surprising. Since we will not be marketing in every country in the list, we will limit the results to the countries that form more than 1% of our targeted audience, again. Let's plot the results to see our targets' budgets."
   ]
  },
  {
   "cell_type": "code",
   "execution_count": 49,
   "metadata": {},
   "outputs": [
    {
     "data": {
      "text/plain": [
       "<matplotlib.legend.Legend at 0x191d2bbdac8>"
      ]
     },
     "execution_count": 49,
     "metadata": {},
     "output_type": "execute_result"
    },
    {
     "data": {
      "image/png": "[encoded data removed]",
      "text/plain": [
       "<Figure size 864x576 with 1 Axes>"
      ]
     },
     "metadata": {},
     "output_type": "display_data"
    }
   ],
   "source": [
    "targeted_countries = [x for x in countries_dist.index]\n",
    "\n",
    "country_budgets_targeted = country_budgets.loc[targeted_countries].sort_values(by=\"MoneyForLearning\", ascending=False)\n",
    "country_budgets_targeted.plot.barh(xlim=(300, 1065), grid=False, label=\"Student Budgets\", figsize=(12,8))\n",
    "plt.axvline(country_budgets_targeted[\"MoneyForLearning\"].mean(), c=\"Green\", label=round(country_budgets_targeted[\"MoneyForLearning\"].mean(), 2))\n",
    "plt.legend()"
   ]
  },
  {
   "cell_type": "markdown",
   "metadata": {},
   "source": [
    "As we can see above, students from Spain, Australia and Nigeria seem to have the highest budgets followed by 4 countries that had the highest potential customer populations with an exception of UK which has the third lowest budget for this. The mean value of students from these countries is around \\\\$640. Since we assume that our programs last 4-6 months, this makes around \\\\$100 - \\\\$160 per month. Note that the price includes all the external resources, resume reviews, career consultant fees, etc.. When all taken into accord, this is still a very good price for an e-learning site.\n",
    "\n",
    "Let's multiply the student budgets with the percentiles to see how much potential a country holds:"
   ]
  },
  {
   "cell_type": "code",
   "execution_count": 50,
   "metadata": {},
   "outputs": [
    {
     "data": {
      "text/plain": [
       "<matplotlib.axes._subplots.AxesSubplot at 0x191d2dcb8c8>"
      ]
     },
     "execution_count": 50,
     "metadata": {},
     "output_type": "execute_result"
    },
    {
     "data": {
      "image/png": "[encoded data removed]",
      "text/plain": [
       "<Figure size 864x576 with 1 Axes>"
      ]
     },
     "metadata": {},
     "output_type": "display_data"
    }
   ],
   "source": [
    "country_potentials = country_budgets_targeted.join(countries_dist)\n",
    "country_potentials.rename({\"CountryLive\": \"Percentile\"}, axis=1, inplace=True)\n",
    "country_potentials[\"Potential\"] = country_potentials[\"MoneyForLearning\"] * country_potentials[\"Percentile\"]\n",
    "country_potentials.sort_values(by=\"Potential\", axis=0, inplace=True)\n",
    "country_potentials[\"Potential\"].plot.barh(figsize=(12,8), grid=False)"
   ]
  },
  {
   "cell_type": "markdown",
   "metadata": {},
   "source": [
    "As we can see in the plot above, top 4 countries with highest student populations also hold the highest potential, with Poland who ranked #5 in the appearance plot ranking lower and Australia ranking higher in this plot. Let's plot percentages to see a clearer image:"
   ]
  },
  {
   "cell_type": "code",
   "execution_count": 51,
   "metadata": {},
   "outputs": [
    {
     "data": {
      "text/plain": [
       "<matplotlib.axes._subplots.AxesSubplot at 0x191d2e5afc8>"
      ]
     },
     "execution_count": 51,
     "metadata": {},
     "output_type": "execute_result"
    },
    {
     "data": {
      "image/png": "[encoded data removed]",
      "text/plain": [
       "<Figure size 864x864 with 1 Axes>"
      ]
     },
     "metadata": {},
     "output_type": "display_data"
    }
   ],
   "source": [
    "country_potentials[\"Potential\"].plot.pie(figsize=(12,12), autopct='%1.1f%%')"
   ]
  },
  {
   "cell_type": "markdown",
   "metadata": {},
   "source": [
    "We can conclude from the pie plot above that US holds a GREAT potential for us to target, followed by India with an 8%."
   ]
  },
  {
   "cell_type": "markdown",
   "metadata": {},
   "source": [
    "# 3. Conclusions"
   ]
  },
  {
   "cell_type": "markdown",
   "metadata": {},
   "source": [
    "In this project, we have assumed that we are an e-learning platform that is looking for a target audience that has a certain budget (see markdown below cell 29). Our conclusions from the data we've plotted and analyzed include:\n",
    "\n",
    "* US, India and UK hold more than 75% of the potential when market size and student budgets taken into account.\n",
    "* People with high school diplomas and higher education experience form a huge portion of the market.\n",
    "* About 70% of potential buyers are males, followed by females with more than 20%.\n",
    "* An average potential customer is of age 30 with most of them being in their 20s."
   ]
  }
 ],
 "metadata": {
  "kernelspec": {
   "display_name": "Python 3",
   "language": "python",
   "name": "python3"
  },
  "language_info": {
   "codemirror_mode": {
    "name": "ipython",
    "version": 3
   },
   "file_extension": ".py",
   "mimetype": "text/x-python",
   "name": "python",
   "nbconvert_exporter": "python",
   "pygments_lexer": "ipython3",
   "version": "3.7.6"
  }
 },
 "nbformat": 4,
 "nbformat_minor": 2
}
